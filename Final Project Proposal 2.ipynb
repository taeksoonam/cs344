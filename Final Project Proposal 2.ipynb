{
 "cells": [
  {
   "cell_type": "markdown",
   "metadata": {},
   "source": [
    "# Taek Soo Nam"
   ]
  },
  {
   "cell_type": "markdown",
   "metadata": {},
   "source": [
    "## CS344 Final Project (Kmeans Clustering)"
   ]
  },
  {
   "cell_type": "markdown",
   "metadata": {},
   "source": [
    "Continuing from the project, I have started to implement some kmeans algorithms. As mentioned previously, the key columns will be COGSPercent and Deletion Percent. COGSPercent shows the percentage of the cost that Service Express took to repair broken harwares of its customers. DeletionPercent shows the percentage compared to the revenue of how many customers has ended the contracts on different number of hardware devices.\n",
    "\n",
    "The purpose of this project is to see which customers have high COGSPercent or high DeletionPercent. With the results, we can predict which customers are likely to leave or have high Cost of Goods for repairing devices. Essentially, Service Express likes customers that have low COGSPercent and low DeletionPercent."
   ]
  },
  {
   "cell_type": "code",
   "execution_count": 13,
   "metadata": {},
   "outputs": [],
   "source": [
    "import numpy as np\n",
    "import pandas as pd\n",
    "from matplotlib import pyplot as plt\n",
    "from sklearn.cluster import KMeans\n",
    "\n",
    "#setting figure size and using ggplot for plotting\n",
    "plt.rcParams['figure.figsize'] = (10, 6)\n",
    "plt.style.use('ggplot')"
   ]
  },
  {
   "cell_type": "code",
   "execution_count": 14,
   "metadata": {},
   "outputs": [
    {
     "name": "stdout",
     "output_type": "stream",
     "text": [
      "(4697, 12)\n",
      "                         AcuGroupName  SystemRevenue  StorageRevenue  \\\n",
      "0                           Blue Hill      406020.60       566390.59   \n",
      "1             XL Global Services, Inc      244183.00       551958.40   \n",
      "2  Navistar International Corporation      496987.00       349330.00   \n",
      "3                        RR Donnelley      192916.64       254232.61   \n",
      "4          Sears Holdings Corporation      301893.00       237188.50   \n",
      "\n",
      "   NetworkRevenue  OtherRevenue  VMAXRevenue  NonVMAXRevenue  SrmAmount  \\\n",
      "0        13616.64        358.56          0.0       986386.39  20393.700   \n",
      "1        73982.52      16780.28     274685.0       612219.20  20895.670   \n",
      "2        43026.00      10542.00          0.0       899885.00  11787.715   \n",
      "3       191461.13      20089.05          0.0       658699.43   8817.600   \n",
      "4        27878.00      34688.00          0.0       601647.50   8987.100   \n",
      "\n",
      "   TotalApmRevenue  TotalApmCoGs  COGSPercent  DeletionPercent  \n",
      "0       920399.930    25349.6900       0.0275           0.0221  \n",
      "1       881950.350   398113.5600       0.4514           0.0236  \n",
      "2       861453.125    14044.3500       0.0163           0.0136  \n",
      "3       820590.960   272060.2697       0.3315           0.0107  \n",
      "4       655286.380   175702.0800       0.2681           0.0137  \n",
      "[[0.0275 0.0221]\n",
      " [0.4514 0.0236]\n",
      " [0.0163 0.0136]\n",
      " ...\n",
      " [0.     0.56  ]\n",
      " [0.     0.    ]\n",
      " [0.     0.    ]]\n"
     ]
    }
   ],
   "source": [
    "# Import dataset\n",
    "\n",
    "data = pd.read_csv('Cluster Analysis-under 100percent.csv', encoding='cp1252')\n",
    "print(data.shape)\n",
    "print(data.head())\n",
    "\n",
    "# putting the data into array.\n",
    "f1 = data['COGSPercent'].values\n",
    "f2 = data['DeletionPercent'].values\n",
    "X = np.array(list(zip(f1,f2)))\n",
    "print(X)"
   ]
  },
  {
   "cell_type": "code",
   "execution_count": 15,
   "metadata": {},
   "outputs": [
    {
     "data": {
      "image/png": "[encoded data removed]",
      "text/plain": [
       "<Figure size 720x432 with 1 Axes>"
      ]
     },
     "metadata": {},
     "output_type": "display_data"
    },
    {
     "name": "stdout",
     "output_type": "stream",
     "text": [
      "KMeans(algorithm='auto', copy_x=True, init='k-means++', max_iter=300,\n",
      "    n_clusters=5, n_init=10, n_jobs=None, precompute_distances='auto',\n",
      "    random_state=None, tol=0.0001, verbose=0)\n"
     ]
    }
   ],
   "source": [
    "# Initializing KMeans\n",
    "kmeans = KMeans(n_clusters=5)\n",
    "\n",
    "# Fitting with inputs\n",
    "kmeans = kmeans.fit(X)\n",
    "labels = kmeans.predict(X)\n",
    "\n",
    "# Getting the cluster centers\n",
    "C = kmeans.cluster_centers_\n",
    "fig = plt.figure()\n",
    "\n",
    "# Setting colors for centroids\n",
    "colors = ['g', 'b', 'y', 'c', 'm']\n",
    "\n",
    "# Plotting the graph with calculated centroids\n",
    "plt.scatter(X[:, 0], X[:, 1])\n",
    "plt.scatter(C[:, 0], C[:, 1], marker='*', c=colors, s=1000)\n",
    "plt.show()\n",
    "\n",
    "print(kmeans)"
   ]
  },
  {
   "cell_type": "markdown",
   "metadata": {},
   "source": [
    "The output results indicate clusters that are associated with COGSPercent and DeletionPercent values. The values range from 0% to 100% on 0.0 ~ 1.0 scale.\n",
    "\n",
    "Maroon - cluster that is associated with very high deletion percent.\n",
    "Yellow - cluster that is associated with high deletion percent.\n",
    "Green - cluster that is associated wiht low Deletion percent and low COGS percent.\n",
    "Blue - cluster that is associated with high COGS percent.\n",
    "Sky Blue - cluster that is associated with very high COGS Percent.\n",
    "\n",
    "With such outcome, besides green centroid, Service Express will look into other clusters, which affect their current and future revenues. One way to do so is looking at which type of revenue Service Express made that led to high COGS or Deletion. For example, one of the columns in the data has 'VMAXRevenue', a device that requires a quite a lot of money to fix. Line 2 shows that the customer who got their VMAX device insured had high COGS. Therefore, Service Express will try to increase the amount they charge for VMAX device, when they make a contract next time. \n",
    "\n",
    "\n",
    "This is still a rough version. However, after consulting, more details will be provided. Moreover, one thing I am interested in is using Topic Modeling algorithm to figure out why certain customers have high deletion percentage."
   ]
  }
 ],
 "metadata": {
  "kernelspec": {
   "display_name": "Python 3",
   "language": "python",
   "name": "python3"
  },
  "language_info": {
   "codemirror_mode": {
    "name": "ipython",
    "version": 3
   },
   "file_extension": ".py",
   "mimetype": "text/x-python",
   "name": "python",
   "nbconvert_exporter": "python",
   "pygments_lexer": "ipython3",
   "version": "3.7.0"
  }
 },
 "nbformat": 4,
 "nbformat_minor": 2
}

