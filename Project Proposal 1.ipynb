{
 "cells": [
  {
   "cell_type": "heading",
   "metadata": {
    "collapsed": true
   },
   "level": 1,
   "source": []
  },
  {
   "cell_type": "heading",
   "metadata": {},
   "level": 1,
   "source": []
  },
  {
   "cell_type": "heading",
   "metadata": {},
   "level": 2,
   "source": [
    "Taek Soo Nam"
   ]
  },
  {
   "cell_type": "markdown",
   "metadata": {},
   "source": [
    "For the final project, I am trying to build a model that uses Cluster Analysis. I will use Service Express' data. This dataset shows different variaables to measure revenues buy insuring its customers' hardwares. The key columns will be COGSPercent and DeletionPercent. Compared to the revenue, COGSPercent shows the percentage of the cost that it took too repair broken harwares of our customers. DeletionPercent shows the percentage compared to the revenue of how many customers has ended the contracts on different number of hardwares. I will set a threshold to analyze the customers who have high COGSPercent and DeletionPercent. If percentages are above 10% then Service Express starts to take notice of those customers. Howeever, information will be given more for the later draft.\n",
    "\n",
    "In terms, of the model, I am planning to build a model in Python that uses unsupervised learning method, specifically by using K-means function. It will randomly classify variables that have similar characteristics. For example, after deciding how many clusters I will use, each cluster will have certain characteristics, such as cluster 1,2 having higher COGSPercentage and 3,4 having higher DeletionPercentage. I will compare the output from the output that I have gotten from another K-means function in Rstudio. In analyzing which customers have high COGSPercent or DeletionPercent, we can use SQL queries to do calculation. However, as I am dealing with more variables, using K-Means function is more efficient. \n",
    "\n",
    "After building this model, if time allows, I would like to try out building a model that does Topic Modeling, which is supposed to analyze the reasons of the DeletionPercentage. In specific, I will use other data that includes description of why customers have left or ended contracts with Service Express. I will using scikit-learn package to do further analysis.\n"
   ]
  },
  {
   "cell_type": "heading",
   "metadata": {},
   "level": 2,
   "source": []
  },
  {
   "cell_type": "markdown",
   "metadata": {},
   "source": []
  }
 ],
 "metadata": {
  "kernelspec": {
   "display_name": "Python 2",
   "language": "python",
   "name": "python2"
  },
  "language_info": {
   "codemirror_mode": {
    "name": "ipython",
    "version": 2
   },
   "file_extension": ".py",
   "mimetype": "text/x-python",
   "name": "python",
   "nbconvert_exporter": "python",
   "pygments_lexer": "ipython2",
   "version": "2.7.6"
  }
 },
 "nbformat": 4,
 "nbformat_minor": 0
}
