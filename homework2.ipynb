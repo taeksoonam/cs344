{
 "cells": [
  {
   "cell_type": "heading",
   "metadata": {
    "collapsed": true
   },
   "level": 1,
   "source": [
    "CS 344 Homework 2 - Taek Soo Nam"
   ]
  },
  {
   "cell_type": "heading",
   "metadata": {},
   "level": 1,
   "source": [
    "Part b"
   ]
  },
  {
   "cell_type": "code",
   "execution_count": null,
   "metadata": {},
   "outputs": [],
   "source": [
    "\"\"\"\n",
    "Homework 2 Part 2\n",
    "Spam Filtering, Bayesian Net\n",
    "CS 344 - Prof. Vander Linden\n",
    "Taek Soo Nam\n",
    "8th March 2019\n",
    "\"\"\"\n",
    "\n",
    "from probability import BayesNet, enumeration_ask, elimination_ask, gibbs_ask\n",
    "\n",
    "\n",
    "T, F = True, False\n",
    "grass = BayesNet([\n",
    "    ('Cloudy', '', 0.5),\n",
    "    ('Sprinkler', 'Cloudy', {T:0.1, F:0.5}),\n",
    "    ('Rain', 'Cloudy', {T:0.8, F:0.2}),\n",
    "    ('WetGrass', 'Sprinkler Rain', {(T, T):0.99, (T,F):0.9, (F,T):0.9, (F,F):0.0}),\n",
    "    ])\n",
    "\n",
    "print(\"\\n\\nProblem 2\")\n",
    "print(\"P(Cloudy)\" + enumeration_ask('Cloudy', dict(), grass).show_approx())\n",
    "print(\"P(Sprinkler|Cloudy)\" + enumeration_ask('Sprinkler', dict(Cloudy=T), grass).show_approx())\n",
    "print(\"Cloudy | the sprinkler is running and it's not raining)\" + enumeration_ask('Cloudy', dict(Sprinkler=T, Rain=F), grass).show_approx())\n",
    "print(\"WetGrass | it's cloudy, the sprinkler is running and it's raining)\" + enumeration_ask('WetGrass', dict(Cloudy=T, Sprinkler=T, Rain=T), grass).show_approx())\n",
    "print(\"Cloudy | the grass is not wet) \" + enumeration_ask('Cloudy', dict(WetGrass=F), grass).show_approx())\n"
   ]
  },
  {
   "cell_type": "heading",
   "metadata": {},
   "level": 1,
   "source": [
    "Part b"
   ]
  },
  {
   "cell_type": "markdown",
   "metadata": {},
   "source": []
  },
  {
   "cell_type": "heading",
   "metadata": {},
   "level": 1,
   "source": []
  },
  {
   "cell_type": "markdown",
   "metadata": {},
   "source": []
  },
  {
   "cell_type": "markdown",
   "metadata": {},
   "source": [
    "i. P(Cloudy) = <0.5, 0.5>\n",
    "ii. P(Sprinkler|Cloudy) = <0.1, 0.9>\n",
    "iii. P(Cloudy|the sprinkler is running and it's not raining) = alpha * <0.1*0.2*0.5, 0.5*0.8*0.5>\n",
    "                               \t                      = alpha * <0.01, 0.2>\n",
    "                              \t                       = <0.0476, 0.9524>\n",
    "iv. P(WetGrass|it's cloudy, the sprinkler is running and it's raining) = alpha * <0.99*0.1*0.8*0.5, 0.01*0.1*0.8*0.5>\n",
    "                                      \t\t\t\t = <0.99, 0.01>\n",
    "v. P(Cloudy|the grass is not wet) = alpha * sum( P(Cloudy^sprinkler^rain^-wetgrass) )\n",
    "                      \t    = alpha * sum( P(Cloudy) * P(sprinkler^rain^-wetgrass|Cloudy) )\n",
    "                       \t   = alpha * <0.5 * (0.1*0.8*0.01 + 0.1*0.2*0.1 + 0.9*0.8*0.1 + 0.9*0.2*1), 0.5 * (0.5*0.2*0.01 + 0.5*0.8*0.1 + 0.5*0.2*0.1 + 0.5*0.8*1)>\n",
    "                       \t   = alpha * <0.5*0.2548, 0.5*0.451>\n",
    "                       \t   = alpha * <0.1274, 0.2255>\n",
    "                       \t   = <0.361, 0.639>"
   ]
  }
 ],
 "metadata": {
  "kernelspec": {
   "display_name": "Python 2",
   "language": "python",
   "name": "python2"
  },
  "language_info": {
   "codemirror_mode": {
    "name": "ipython",
    "version": 2
   },
   "file_extension": ".py",
   "mimetype": "text/x-python",
   "name": "python",
   "nbconvert_exporter": "python",
   "pygments_lexer": "ipython2",
   "version": "2.7.6"
  }
 },
 "nbformat": 4,
 "nbformat_minor": 0
}
